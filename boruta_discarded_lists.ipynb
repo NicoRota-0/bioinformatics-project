{
 "cells": [
  {
   "cell_type": "code",
   "execution_count": null,
   "id": "c055b181",
   "metadata": {},
   "outputs": [],
   "source": [
    "features = X.columns\n",
    "num = [1, 3, 5, 7, 9, 11, 13, 15, 17, 19]\n",
    "li_enhancers = []\n",
    "li_reg_enhancers = []\n",
    "li_promoters = []\n",
    "li_reg_promoters = []\n",
    "\n",
    "for i in features:\n",
    "    # X enhancers\n",
    "    for j in num:\n",
    "        if i not in boruta_features_selected_discarded['active_enhancers_vs_inactive_enhancers'][j]:\n",
    "            break\n",
    "        if j == 9:\n",
    "            li_enhancers.append(i)\n",
    "    for j in num:\n",
    "        if i not in boruta_features_selected_discarded_regression['active_enhancers_vs_inactive_enhancers'][j]:\n",
    "            break\n",
    "        if j == 9:\n",
    "            li_reg_enhancers.append(i)\n",
    "            \n",
    "    # X promoters        \n",
    "    for j in num:\n",
    "        if i not in boruta_features_selected_discarded['active_promoters_vs_inactive_promoters'][j]:\n",
    "            break\n",
    "        if j == 9:\n",
    "            li_promoters.append(i)\n",
    "    for j in num:\n",
    "        if i not in boruta_features_selected_discarded_regression['active_promoters_vs_inactive_promoters'][j]:\n",
    "            break\n",
    "        if j == 9:\n",
    "            li_reg_promoters.append(i)"
   ]
  },
  {
   "cell_type": "code",
   "execution_count": null,
   "id": "47c9cd5a",
   "metadata": {},
   "outputs": [],
   "source": [
    "li_enhancers == li_reg_enhancers"
   ]
  },
  {
   "cell_type": "code",
   "execution_count": null,
   "id": "e9434072",
   "metadata": {},
   "outputs": [],
   "source": [
    "li_promoters == li_reg_promoters"
   ]
  },
  {
   "cell_type": "code",
   "execution_count": null,
   "id": "36dec338",
   "metadata": {},
   "outputs": [],
   "source": [
    "li_reg_promoters == li_enhancers"
   ]
  },
  {
   "cell_type": "code",
   "execution_count": null,
   "id": "77c9f387",
   "metadata": {},
   "outputs": [],
   "source": [
    "li_enhancers"
   ]
  },
  {
   "cell_type": "code",
   "execution_count": null,
   "id": "e636d2c0",
   "metadata": {},
   "outputs": [],
   "source": []
  }
 ],
 "metadata": {
  "language_info": {
   "codemirror_mode": {
    "name": "ipython",
    "version": 3
   },
   "file_extension": ".py",
   "mimetype": "text/x-python",
   "name": "python",
   "nbconvert_exporter": "python",
   "pygments_lexer": "ipython3",
   "version": "3.6.13"
  }
 },
 "nbformat": 4,
 "nbformat_minor": 5
}
